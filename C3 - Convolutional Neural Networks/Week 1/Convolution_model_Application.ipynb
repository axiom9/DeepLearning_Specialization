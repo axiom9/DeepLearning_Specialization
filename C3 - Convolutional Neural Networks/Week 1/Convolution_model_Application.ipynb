{
 "cells": [
  {
   "cell_type": "markdown",
   "metadata": {},
   "source": [
    "# Convolutional Neural Networks: Application\n",
    "\n",
    "Welcome to Course 4's second assignment! In this notebook, you will:\n",
    "\n",
    "- Create a mood classifer using the TF Keras Sequential API\n",
    "- Build a ConvNet to identify sign language digits using the TF Keras Functional API\n",
    "\n",
    "**After this assignment you will be able to:**\n",
    "\n",
    "- Build and train a ConvNet in TensorFlow for a __binary__ classification problem\n",
    "- Build and train a ConvNet in TensorFlow for a __multiclass__ classification problem\n",
    "- Explain different use cases for the Sequential and Functional APIs\n",
    "\n",
    "To complete this assignment, you should already be familiar with TensorFlow. If you are not, please refer back to the **TensorFlow Tutorial** of the third week of Course 2 (\"**Improving deep neural networks**\")."
   ]
  },
  {
   "cell_type": "markdown",
   "metadata": {},
   "source": [
    "## Table of Contents\n",
    "\n",
    "- [1 - Packages](#1)\n",
    "    - [1.1 - Load the Data and Split the Data into Train/Test Sets](#1-1)\n",
    "- [2 - Layers in TF Keras](#2)\n",
    "- [3 - The Sequential API](#3)\n",
    "    - [3.1 - Create the Sequential Model](#3-1)\n",
    "        - [Exercise 1 - happyModel](#ex-1)\n",
    "    - [3.2 - Train and Evaluate the Model](#3-2)\n",
    "- [4 - The Functional API](#4)\n",
    "    - [4.1 - Load the SIGNS Dataset](#4-1)\n",
    "    - [4.2 - Split the Data into Train/Test Sets](#4-2)\n",
    "    - [4.3 - Forward Propagation](#4-3)\n",
    "        - [Exercise 2 - convolutional_model](#ex-2)\n",
    "    - [4.4 - Train the Model](#4-4)\n",
    "- [5 - History Object](#5)\n",
    "- [6 - Bibliography](#6)"
   ]
  },
  {
   "cell_type": "markdown",
   "metadata": {},
   "source": [
    "<a name='1'></a>\n",
    "## 1 - Packages\n",
    "\n",
    "As usual, begin by loading in the packages."
   ]
  },
  {
   "cell_type": "code",
   "execution_count": 1,
   "metadata": {},
   "outputs": [],
   "source": [
    "import math\n",
    "import numpy as np\n",
    "import h5py\n",
    "import matplotlib.pyplot as plt\n",
    "from matplotlib.pyplot import imread\n",
    "import scipy\n",
    "from PIL import Image\n",
    "import pandas as pd\n",
    "import tensorflow as tf\n",
    "import tensorflow.keras.layers as tfl\n",
    "from tensorflow.python.framework import ops\n",
    "from cnn_utils import *\n",
    "from test_utils import summary, comparator\n",
    "\n",
    "%matplotlib inline\n",
    "np.random.seed(1)"
   ]
  },
  {
   "cell_type": "markdown",
   "metadata": {},
   "source": [
    "<a name='1-1'></a>\n",
    "### 1.1 - Load the Data and Split the Data into Train/Test Sets\n",
    "\n",
    "You'll be using the Happy House dataset for this part of the assignment, which contains images of peoples' faces. Your task will be to build a ConvNet that determines whether the people in the images are smiling or not -- because they only get to enter the house if they're smiling!  "
   ]
  },
  {
   "cell_type": "code",
   "execution_count": 2,
   "metadata": {},
   "outputs": [
    {
     "name": "stdout",
     "output_type": "stream",
     "text": [
      "number of training examples = 600\n",
      "number of test examples = 150\n",
      "X_train shape: (600, 64, 64, 3)\n",
      "Y_train shape: (600, 1)\n",
      "X_test shape: (150, 64, 64, 3)\n",
      "Y_test shape: (150, 1)\n"
     ]
    }
   ],
   "source": [
    "X_train_orig, Y_train_orig, X_test_orig, Y_test_orig, classes = load_happy_dataset()\n",
    "\n",
    "# Normalize image vectors\n",
    "X_train = X_train_orig/255.\n",
    "X_test = X_test_orig/255.\n",
    "\n",
    "# Reshape\n",
    "Y_train = Y_train_orig.T\n",
    "Y_test = Y_test_orig.T\n",
    "\n",
    "print (\"number of training examples = \" + str(X_train.shape[0]))\n",
    "print (\"number of test examples = \" + str(X_test.shape[0]))\n",
    "print (\"X_train shape: \" + str(X_train.shape))\n",
    "print (\"Y_train shape: \" + str(Y_train.shape))\n",
    "print (\"X_test shape: \" + str(X_test.shape))\n",
    "print (\"Y_test shape: \" + str(Y_test.shape))"
   ]
  },
  {
   "cell_type": "markdown",
   "metadata": {},
   "source": [
    "You can display the images contained in the dataset. Images are **64x64** pixels in RGB format (3 channels)."
   ]
  },
  {
   "cell_type": "code",
   "execution_count": 9,
   "metadata": {},
   "outputs": [
    {
     "data": {
      "image/png": "[encoded data removed]",
      "text/plain": [
       "<Figure size 432x288 with 1 Axes>"
      ]
     },
     "metadata": {
      "needs_background": "light"
     },
     "output_type": "display_data"
    }
   ],
   "source": [
    "index = 119\n",
    "plt.imshow(X_train_orig[index]) #display sample training image\n",
    "plt.show()"
   ]
  },
  {
   "cell_type": "markdown",
   "metadata": {},
   "source": [
    "<a name='2'></a>\n",
    "## 2 - Layers in TF Keras \n",
    "\n",
    "In the previous assignment, you created layers manually in numpy. In TF Keras, you don't have to write code directly to create layers. Rather, TF Keras has pre-defined layers you can use. \n",
    "\n",
    "When you create a layer in TF Keras, you are creating a function that takes some input and transforms it into an output you can reuse later. Nice and easy! "
   ]
  },
  {
   "cell_type": "markdown",
   "metadata": {},
   "source": [
    "<a name='3'></a>\n",
    "## 3 - The Sequential API\n",
    "\n",
    "In the previous assignment, you built helper functions using `numpy` to understand the mechanics behind convolutional neural networks. Most practical applications of deep learning today are built using programming frameworks, which have many built-in functions you can simply call. Keras is a high-level abstraction built on top of TensorFlow, which allows for even more simplified and optimized model creation and training. \n",
    "\n",
    "For the first part of this assignment, you'll create a model using TF Keras' Sequential API, which allows you to build layer by layer, and is ideal for building models where each layer has **exactly one** input tensor and **one** output tensor. \n",
    "\n",
    "As you'll see, using the Sequential API is simple and straightforward, but is only appropriate for simpler, more straightforward tasks. Later in this notebook you'll spend some time building with a more flexible, powerful alternative: the Functional API. \n",
    " "
   ]
  },
  {
   "cell_type": "markdown",
   "metadata": {},
   "source": [
    "<a name='3-1'></a>\n",
    "### 3.1 - Create the Sequential Model\n",
    "\n",
    "As mentioned earlier, the TensorFlow Keras Sequential API can be used to build simple models with layer operations that proceed in a sequential order. \n",
    "\n",
    "You can also add layers incrementally to a Sequential model with the `.add()` method, or remove them using the `.pop()` method, much like you would in a regular Python list.\n",
    "\n",
    "Actually, you can think of a Sequential model as behaving like a list of layers. Like Python lists, Sequential layers are ordered, and the order in which they are specified matters.  If your model is non-linear or contains layers with multiple inputs or outputs, a Sequential model wouldn't be the right choice!\n",
    "\n",
    "For any layer construction in Keras, you'll need to specify the input shape in advance. This is because in Keras, the shape of the weights is based on the shape of the inputs. The weights are only created when the model first sees some input data. Sequential models can be created by passing a list of layers to the Sequential constructor, like you will do in the next assignment.\n",
    "\n",
    "<a name='ex-1'></a>\n",
    "### Exercise 1 - happyModel\n",
    "\n",
    "Implement the `happyModel` function below to build the following model: `ZEROPAD2D -> CONV2D -> BATCHNORM -> RELU -> MAXPOOL -> FLATTEN -> DENSE`. Take help from [tf.keras.layers](https://www.tensorflow.org/api_docs/python/tf/keras/layers) \n",
    "\n",
    "Also, plug in the following parameters for all the steps:\n",
    "\n",
    " - [ZeroPadding2D](https://www.tensorflow.org/api_docs/python/tf/keras/layers/ZeroPadding2D): padding 3, input shape 64 x 64 x 3\n",
    " - [Conv2D](https://www.tensorflow.org/api_docs/python/tf/keras/layers/Conv2D): Use 32 7x7 filters, stride 1\n",
    " - [BatchNormalization](https://www.tensorflow.org/api_docs/python/tf/keras/layers/BatchNormalization): for axis 3\n",
    " - [ReLU](https://www.tensorflow.org/api_docs/python/tf/keras/layers/ReLU)\n",
    " - [MaxPool2D](https://www.tensorflow.org/api_docs/python/tf/keras/layers/MaxPool2D): Using default parameters\n",
    " - [Flatten](https://www.tensorflow.org/api_docs/python/tf/keras/layers/Flatten) the previous output.\n",
    " - Fully-connected ([Dense](https://www.tensorflow.org/api_docs/python/tf/keras/layers/Dense)) layer: Apply a fully connected layer with 1 neuron and a sigmoid activation. \n",
    " \n",
    " \n",
    " **Hint:**\n",
    " \n",
    " Use **tfl** as shorthand for **tensorflow.keras.layers**"
   ]
  },
  {
   "cell_type": "code",
   "execution_count": 16,
   "metadata": {
    "deletable": false,
    "nbgrader": {
     "cell_type": "code",
     "checksum": "95d28b191f257bdd5b70c7b8952559d5",
     "grade": false,
     "grade_id": "cell-0e56d3fc28b69aec",
     "locked": false,
     "schema_version": 3,
     "solution": true,
     "task": false
    }
   },
   "outputs": [],
   "source": [
    "# GRADED FUNCTION: happyModel\n",
    "\n",
    "def happyModel():\n",
    "    \"\"\"\n",
    "    Implements the forward propagation for the binary classification model:\n",
    "    ZEROPAD2D -> CONV2D -> BATCHNORM -> RELU -> MAXPOOL -> FLATTEN -> DENSE\n",
    "    \n",
    "    Note that for simplicity and grading purposes, you'll hard-code all the values\n",
    "    such as the stride and kernel (filter) sizes. \n",
    "    Normally, functions should take these values as function parameters.\n",
    "    \n",
    "    Arguments:\n",
    "    None\n",
    "\n",
    "    Returns:\n",
    "    model -- TF Keras model (object containing the information for the entire training process) \n",
    "    \"\"\"\n",
    "    model = tf.keras.Sequential([\n",
    "            ## ZeroPadding2D with padding 3, input shape of 64 x 64 x 3\n",
    "            tfl.ZeroPadding2D(padding=(3,3), input_shape=(64,64,3)),\n",
    "            \n",
    "            ## Conv2D with 32 7x7 filters and stride of 1\n",
    "            tfl.Conv2D(filters=32, kernel_size=(7,7)),\n",
    "            \n",
    "            ## BatchNormalization for axis 3\n",
    "            tfl.BatchNormalization(axis=3),\n",
    "            \n",
    "            ## ReLU\n",
    "            tfl.ReLU(),\n",
    "            \n",
    "            ## Max Pooling 2D with default parameters\n",
    "            tfl.MaxPool2D(),\n",
    "            \n",
    "            ## Flatten layer\n",
    "            tfl.Flatten(),\n",
    "            \n",
    "            ## Dense layer with 1 unit for output & 'sigmoid' activation\n",
    "            tfl.Dense(units=1, activation='sigmoid'),\n",
    "            \n",
    "            # YOUR CODE STARTS HERE\n",
    "            \n",
    "            \n",
    "            # YOUR CODE ENDS HERE\n",
    "        ])\n",
    "    \n",
    "    return model"
   ]
  },
  {
   "cell_type": "code",
   "execution_count": 17,
   "metadata": {
    "deletable": false,
    "editable": false,
    "nbgrader": {
     "cell_type": "code",
     "checksum": "8d3575c950e2e78149be2d05d671c80d",
     "grade": true,
     "grade_id": "cell-e3e1046e5c33d775",
     "locked": true,
     "points": 10,
     "schema_version": 3,
     "solution": false,
     "task": false
    }
   },
   "outputs": [
    {
     "name": "stdout",
     "output_type": "stream",
     "text": [
      "['ZeroPadding2D', (None, 70, 70, 3), 0, ((3, 3), (3, 3))]\n",
      "['Conv2D', (None, 64, 64, 32), 4736, 'valid', 'linear', 'GlorotUniform']\n",
      "['BatchNormalization', (None, 64, 64, 32), 128]\n",
      "['ReLU', (None, 64, 64, 32), 0]\n",
      "['MaxPooling2D', (None, 32, 32, 32), 0, (2, 2), (2, 2), 'valid']\n",
      "['Flatten', (None, 32768), 0]\n",
      "['Dense', (None, 1), 32769, 'sigmoid']\n",
      "\u001b[32mAll tests passed!\u001b[0m\n"
     ]
    }
   ],
   "source": [
    "happy_model = happyModel()\n",
    "# Print a summary for each layer\n",
    "for layer in summary(happy_model):\n",
    "    print(layer)\n",
    "    \n",
    "output = [['ZeroPadding2D', (None, 70, 70, 3), 0, ((3, 3), (3, 3))],\n",
    "            ['Conv2D', (None, 64, 64, 32), 4736, 'valid', 'linear', 'GlorotUniform'],\n",
    "            ['BatchNormalization', (None, 64, 64, 32), 128],\n",
    "            ['ReLU', (None, 64, 64, 32), 0],\n",
    "            ['MaxPooling2D', (None, 32, 32, 32), 0, (2, 2), (2, 2), 'valid'],\n",
    "            ['Flatten', (None, 32768), 0],\n",
    "            ['Dense', (None, 1), 32769, 'sigmoid']]\n",
    "    \n",
    "comparator(summary(happy_model), output)"
   ]
  },
  {
   "cell_type": "markdown",
   "metadata": {},
   "source": [
    "Now that your model is created, you can compile it for training with an optimizer and loss of your choice. When the string `accuracy` is specified as a metric, the type of accuracy used will be automatically converted based on the loss function used. This is one of the many optimizations built into TensorFlow that make your life easier! If you'd like to read more on how the compiler operates, check the docs [here](https://www.tensorflow.org/api_docs/python/tf/keras/Model#compile)."
   ]
  },
  {
   "cell_type": "code",
   "execution_count": 18,
   "metadata": {},
   "outputs": [],
   "source": [
    "happy_model.compile(optimizer='adam',\n",
    "                   loss='binary_crossentropy',\n",
    "                   metrics=['accuracy'])"
   ]
  },
  {
   "cell_type": "markdown",
   "metadata": {},
   "source": [
    "It's time to check your model's parameters with the `.summary()` method. This will display the types of layers you have, the shape of the outputs, and how many parameters are in each layer. "
   ]
  },
  {
   "cell_type": "code",
   "execution_count": 19,
   "metadata": {},
   "outputs": [
    {
     "name": "stdout",
     "output_type": "stream",
     "text": [
      "Model: \"sequential\"\n",
      "_________________________________________________________________\n",
      "Layer (type)                 Output Shape              Param #   \n",
      "=================================================================\n",
      "zero_padding2d (ZeroPadding2 (None, 70, 70, 3)         0         \n",
      "_________________________________________________________________\n",
      "conv2d (Conv2D)              (None, 64, 64, 32)        4736      \n",
      "_________________________________________________________________\n",
      "batch_normalization (BatchNo (None, 64, 64, 32)        128       \n",
      "_________________________________________________________________\n",
      "re_lu (ReLU)                 (None, 64, 64, 32)        0         \n",
      "_________________________________________________________________\n",
      "max_pooling2d (MaxPooling2D) (None, 32, 32, 32)        0         \n",
      "_________________________________________________________________\n",
      "flatten (Flatten)            (None, 32768)             0         \n",
      "_________________________________________________________________\n",
      "dense (Dense)                (None, 1)                 32769     \n",
      "=================================================================\n",
      "Total params: 37,633\n",
      "Trainable params: 37,569\n",
      "Non-trainable params: 64\n",
      "_________________________________________________________________\n"
     ]
    }
   ],
   "source": [
    "happy_model.summary()"
   ]
  },
  {
   "cell_type": "markdown",
   "metadata": {},
   "source": [
    "<a name='3-2'></a>\n",
    "### 3.2 - Train and Evaluate the Model\n",
    "\n",
    "After creating the model, compiling it with your choice of optimizer and loss function, and doing a sanity check on its contents, you are now ready to build! \n",
    "\n",
    "Simply call `.fit()` to train. That's it! No need for mini-batching, saving, or complex backpropagation computations. That's all been done for you, as you're using a TensorFlow dataset with the batches specified already. You do have the option to specify epoch number or minibatch size if you like (for example, in the case of an un-batched dataset)."
   ]
  },
  {
   "cell_type": "code",
   "execution_count": 20,
   "metadata": {},
   "outputs": [
    {
     "name": "stdout",
     "output_type": "stream",
     "text": [
      "Epoch 1/10\n",
      "38/38 [==============================] - 4s 100ms/step - loss: 1.1255 - accuracy: 0.7383\n",
      "Epoch 2/10\n",
      "38/38 [==============================] - 4s 97ms/step - loss: 0.2161 - accuracy: 0.8983\n",
      "Epoch 3/10\n",
      "38/38 [==============================] - 4s 95ms/step - loss: 0.1462 - accuracy: 0.9467\n",
      "Epoch 4/10\n",
      "38/38 [==============================] - 4s 95ms/step - loss: 0.2308 - accuracy: 0.9100\n",
      "Epoch 5/10\n",
      "38/38 [==============================] - 4s 97ms/step - loss: 0.2933 - accuracy: 0.9033\n",
      "Epoch 6/10\n",
      "38/38 [==============================] - 4s 95ms/step - loss: 0.1673 - accuracy: 0.9317\n",
      "Epoch 7/10\n",
      "38/38 [==============================] - 4s 97ms/step - loss: 0.1201 - accuracy: 0.9500\n",
      "Epoch 8/10\n",
      "38/38 [==============================] - 4s 97ms/step - loss: 0.0872 - accuracy: 0.9683\n",
      "Epoch 9/10\n",
      "38/38 [==============================] - 4s 95ms/step - loss: 0.0959 - accuracy: 0.9700\n",
      "Epoch 10/10\n",
      "38/38 [==============================] - 4s 95ms/step - loss: 0.1002 - accuracy: 0.9617\n"
     ]
    },
    {
     "data": {
      "text/plain": [
       "<tensorflow.python.keras.callbacks.History at 0x7fe5b154c1d0>"
      ]
     },
     "execution_count": 20,
     "metadata": {},
     "output_type": "execute_result"
    }
   ],
   "source": [
    "happy_model.fit(X_train, Y_train, epochs=10, batch_size=16)"
   ]
  },
  {
   "cell_type": "markdown",
   "metadata": {},
   "source": [
    "After that completes, just use `.evaluate()` to evaluate against your test set. This function will print the value of the loss function and the performance metrics specified during the compilation of the model. In this case, the `binary_crossentropy` and the `accuracy` respectively."
   ]
  },
  {
   "cell_type": "code",
   "execution_count": 21,
   "metadata": {},
   "outputs": [
    {
     "name": "stdout",
     "output_type": "stream",
     "text": [
      "5/5 [==============================] - 0s 31ms/step - loss: 0.1307 - accuracy: 0.9467\n"
     ]
    },
    {
     "data": {
      "text/plain": [
       "[0.13071511685848236, 0.9466666579246521]"
      ]
     },
     "execution_count": 21,
     "metadata": {},
     "output_type": "execute_result"
    }
   ],
   "source": [
    "happy_model.evaluate(X_test, Y_test)"
   ]
  },
  {
   "cell_type": "markdown",
   "metadata": {},
   "source": [
    "Easy, right? But what if you need to build a model with shared layers, branches, or multiple inputs and outputs? This is where Sequential, with its beautifully simple yet limited functionality, won't be able to help you. \n",
    "\n",
    "Next up: Enter the Functional API, your slightly more complex, highly flexible friend.  "
   ]
  },
  {
   "cell_type": "markdown",
   "metadata": {},
   "source": [
    "<a name='4'></a>\n",
    "## 4 - The Functional API"
   ]
  },
  {
   "cell_type": "markdown",
   "metadata": {},
   "source": [
    "Welcome to the second half of the assignment, where you'll use Keras' flexible [Functional API](https://www.tensorflow.org/guide/keras/functional) to build a ConvNet that can differentiate between 6 sign language digits. \n",
    "\n",
    "The Functional API can handle models with non-linear topology, shared layers, as well as layers with multiple inputs or outputs. Imagine that, where the Sequential API requires the model to move in a linear fashion through its layers, the Functional API allows much more flexibility. Where Sequential is a straight line, a Functional model is a graph, where the nodes of the layers can connect in many more ways than one. \n",
    "\n",
    "In the visual example below, the one possible direction of the movement Sequential model is shown in contrast to a skip connection, which is just one of the many ways a Functional model can be constructed. A skip connection, as you might have guessed, skips some layer in the network and feeds the output to a later layer in the network. Don't worry, you'll be spending more time with skip connections very soon! "
   ]
  },
  {
   "cell_type": "markdown",
   "metadata": {},
   "source": [
    "<img src=\"images/seq_vs_func.png\" style=\"width:350px;height:200px;\">"
   ]
  },
  {
   "cell_type": "markdown",
   "metadata": {},
   "source": [
    "<a name='4-1'></a>\n",
    "### 4.1 - Load the SIGNS Dataset\n",
    "\n",
    "As a reminder, the SIGNS dataset is a collection of 6 signs representing numbers from 0 to 5."
   ]
  },
  {
   "cell_type": "code",
   "execution_count": 22,
   "metadata": {},
   "outputs": [],
   "source": [
    "# Loading the data (signs)\n",
    "X_train_orig, Y_train_orig, X_test_orig, Y_test_orig, classes = load_signs_dataset()"
   ]
  },
  {
   "cell_type": "markdown",
   "metadata": {},
   "source": [
    "<img src=\"images/SIGNS.png\" style=\"width:800px;height:300px;\">\n",
    "\n",
    "The next cell will show you an example of a labelled image in the dataset. Feel free to change the value of `index` below and re-run to see different examples. "
   ]
  },
  {
   "cell_type": "code",
   "execution_count": 26,
   "metadata": {},
   "outputs": [
    {
     "name": "stdout",
     "output_type": "stream",
     "text": [
      "y = 5\n"
     ]
    },
    {
     "data": {
      "image/png": "[encoded data removed]",
      "text/plain": [
       "<Figure size 432x288 with 1 Axes>"
      ]
     },
     "metadata": {
      "needs_background": "light"
     },
     "output_type": "display_data"
    }
   ],
   "source": [
    "# Example of an image from the dataset\n",
    "index = 13\n",
    "plt.imshow(X_train_orig[index])\n",
    "print (\"y = \" + str(np.squeeze(Y_train_orig[:, index])))"
   ]
  },
  {
   "cell_type": "markdown",
   "metadata": {},
   "source": [
    "<a name='4-2'></a>\n",
    "### 4.2 - Split the Data into Train/Test Sets\n",
    "\n",
    "In Course 2, you built a fully-connected network for this dataset. But since this is an image dataset, it is more natural to apply a ConvNet to it.\n",
    "\n",
    "To get started, let's examine the shapes of your data. "
   ]
  },
  {
   "cell_type": "code",
   "execution_count": 29,
   "metadata": {},
   "outputs": [
    {
     "name": "stdout",
     "output_type": "stream",
     "text": [
      "number of training examples = 1080\n",
      "number of test examples = 120\n",
      "X_train shape: (1080, 64, 64, 3)\n",
      "Y_train shape: (1080, 6)\n",
      "X_test shape: (120, 64, 64, 3)\n",
      "Y_test shape: (120, 6)\n"
     ]
    }
   ],
   "source": [
    "X_train = X_train_orig/255.\n",
    "X_test = X_test_orig/255.\n",
    "Y_train = convert_to_one_hot(Y_train_orig, 6).T\n",
    "Y_test = convert_to_one_hot(Y_test_orig, 6).T\n",
    "print (\"number of training examples = \" + str(X_train.shape[0]))\n",
    "print (\"number of test examples = \" + str(X_test.shape[0]))\n",
    "print (\"X_train shape: \" + str(X_train.shape))\n",
    "print (\"Y_train shape: \" + str(Y_train.shape))\n",
    "print (\"X_test shape: \" + str(X_test.shape))\n",
    "print (\"Y_test shape: \" + str(Y_test.shape))"
   ]
  },
  {
   "cell_type": "markdown",
   "metadata": {},
   "source": [
    "<a name='4-3'></a>\n",
    "### 4.3 - Forward Propagation\n",
    "\n",
    "In TensorFlow, there are built-in functions that implement the convolution steps for you. By now, you should be familiar with how TensorFlow builds computational graphs. In the [Functional API](https://www.tensorflow.org/guide/keras/functional), you create a graph of layers. This is what allows such great flexibility.\n",
    "\n",
    "However, the following model could also be defined using the Sequential API since the information flow is on a single line. But don't deviate. What we want you to learn is to use the functional API.\n",
    "\n",
    "Begin building your graph of layers by creating an input node that functions as a callable object:\n",
    "\n",
    "- **input_img = tf.keras.Input(shape=input_shape):** \n",
    "\n",
    "Then, create a new node in the graph of layers by calling a layer on the `input_img` object: \n",
    "\n",
    "- **tf.keras.layers.Conv2D(filters= ... , kernel_size= ... , padding='same')(input_img):** Read the full documentation on [Conv2D](https://www.tensorflow.org/api_docs/python/tf/keras/layers/Conv2D).\n",
    "\n",
    "- **tf.keras.layers.MaxPool2D(pool_size=(f, f), strides=(s, s), padding='same'):** `MaxPool2D()` downsamples your input using a window of size (f, f) and strides of size (s, s) to carry out max pooling over each window.  For max pooling, you usually operate on a single example at a time and a single channel at a time. Read the full documentation on [MaxPool2D](https://www.tensorflow.org/api_docs/python/tf/keras/layers/MaxPool2D).\n",
    "\n",
    "- **tf.keras.layers.ReLU():** computes the elementwise ReLU of Z (which can be any shape). You can read the full documentation on [ReLU](https://www.tensorflow.org/api_docs/python/tf/keras/layers/ReLU).\n",
    "\n",
    "- **tf.keras.layers.Flatten()**: given a tensor \"P\", this function takes each training (or test) example in the batch and flattens it into a 1D vector.  \n",
    "\n",
    "    * If a tensor P has the shape (batch_size,h,w,c), it returns a flattened tensor with shape (batch_size, k), where $k=h \\times w \\times c$.  \"k\" equals the product of all the dimension sizes other than the first dimension.\n",
    "    \n",
    "    * For example, given a tensor with dimensions [100, 2, 3, 4], it flattens the tensor to be of shape [100, 24], where 24 = 2 * 3 * 4.  You can read the full documentation on [Flatten](https://www.tensorflow.org/api_docs/python/tf/keras/layers/Flatten).\n",
    "\n",
    "- **tf.keras.layers.Dense(units= ... , activation='softmax')(F):** given the flattened input F, it returns the output computed using a fully connected layer. You can read the full documentation on [Dense](https://www.tensorflow.org/api_docs/python/tf/keras/layers/Dense).\n",
    "\n",
    "In the last function above (`tf.keras.layers.Dense()`), the fully connected layer automatically initializes weights in the graph and keeps on training them as you train the model. Hence, you did not need to initialize those weights when initializing the parameters.\n",
    "\n",
    "Lastly, before creating the model, you'll need to define the output using the last of the function's compositions (in this example, a Dense layer): \n",
    "\n",
    "- **outputs = tf.keras.layers.Dense(units=6, activation='softmax')(F)**\n",
    "\n",
    "\n",
    "#### Window, kernel, filter, pool\n",
    "\n",
    "The words \"kernel\" and \"filter\" are used to refer to the same thing. The word \"filter\" accounts for the amount of \"kernels\" that will be used in a single convolution layer. \"Pool\" is the name of the operation that takes the max or average value of the kernels. \n",
    "\n",
    "This is why the parameter `pool_size` refers to `kernel_size`, and you use `(f,f)` to refer to the filter size. \n",
    "\n",
    "Pool size and kernel size refer to the same thing in different objects - They refer to the shape of the window where the operation takes place. "
   ]
  },
  {
   "cell_type": "markdown",
   "metadata": {},
   "source": [
    "<a name='ex-2'></a>\n",
    "### Exercise 2 - convolutional_model\n",
    "\n",
    "Implement the `convolutional_model` function below to build the following model: `CONV2D -> RELU -> MAXPOOL -> CONV2D -> RELU -> MAXPOOL -> FLATTEN -> DENSE`. Use the functions above! \n",
    "\n",
    "Also, plug in the following parameters for all the steps:\n",
    "\n",
    " - [Conv2D](https://www.tensorflow.org/api_docs/python/tf/keras/layers/Conv2D): Use 8 4 by 4 filters, stride 1, padding is \"SAME\"\n",
    " - [ReLU](https://www.tensorflow.org/api_docs/python/tf/keras/layers/ReLU)\n",
    " - [MaxPool2D](https://www.tensorflow.org/api_docs/python/tf/keras/layers/MaxPool2D): Use an 8 by 8 filter size and an 8 by 8 stride, padding is \"SAME\"\n",
    " - **Conv2D**: Use 16 2 by 2 filters, stride 1, padding is \"SAME\"\n",
    " - **ReLU**\n",
    " - **MaxPool2D**: Use a 4 by 4 filter size and a 4 by 4 stride, padding is \"SAME\"\n",
    " - [Flatten](https://www.tensorflow.org/api_docs/python/tf/keras/layers/Flatten) the previous output.\n",
    " - Fully-connected ([Dense](https://www.tensorflow.org/api_docs/python/tf/keras/layers/Dense)) layer: Apply a fully connected layer with 6 neurons and a softmax activation. "
   ]
  },
  {
   "cell_type": "code",
   "execution_count": 37,
   "metadata": {
    "deletable": false,
    "nbgrader": {
     "cell_type": "code",
     "checksum": "f58643806aa8380c96225fc8b4c5e7aa",
     "grade": false,
     "grade_id": "cell-dac51744a9e03f51",
     "locked": false,
     "schema_version": 3,
     "solution": true,
     "task": false
    }
   },
   "outputs": [],
   "source": [
    "# GRADED FUNCTION: convolutional_model\n",
    "\n",
    "def convolutional_model(input_shape):\n",
    "    \"\"\"\n",
    "    Implements the forward propagation for the model:\n",
    "    CONV2D -> RELU -> MAXPOOL -> CONV2D -> RELU -> MAXPOOL -> FLATTEN -> DENSE\n",
    "    \n",
    "    Note that for simplicity and grading purposes, you'll hard-code some values\n",
    "    such as the stride and kernel (filter) sizes. \n",
    "    Normally, functions should take these values as function parameters.\n",
    "    \n",
    "    Arguments:\n",
    "    input_img -- input dataset, of shape (input_shape)\n",
    "\n",
    "    Returns:\n",
    "    model -- TF Keras model (object containing the information for the entire training process) \n",
    "    \"\"\"\n",
    "\n",
    "    input_img = tf.keras.Input(shape=input_shape)\n",
    "    ## CONV2D: 8 filters 4x4, stride of 1, padding 'SAME'\n",
    "    Z1 = tfl.Conv2D(filters=8, kernel_size=(4,4), padding='same')(input_img)\n",
    "    ## RELU\n",
    "    A1 = tfl.ReLU()(Z1)\n",
    "    ## MAXPOOL: window 8x8, stride 8, padding 'SAME'\n",
    "    P1 = tfl.MaxPool2D(pool_size=(8,8), strides=8, padding='same')(A1)\n",
    "    ## CONV2D: 16 filters 2x2, stride 1, padding 'SAME'\n",
    "    Z2 = tfl.Conv2D(filters=16, kernel_size=(2,2), padding='same')(P1)\n",
    "    ## RELU\n",
    "    A2 = tfl.ReLU()(Z2)\n",
    "    ## MAXPOOL: window 4x4, stride 4, padding 'SAME'\n",
    "    P2 = tfl.MaxPool2D(pool_size=(4,4), strides=4, padding='same')(A2)\n",
    "    ## FLATTEN\n",
    "    F = tfl.Flatten()(P2)\n",
    "    ## Dense layer\n",
    "    ## 6 neurons in output layer. Hint: one of the arguments should be \"activation='softmax'\" \n",
    "    outputs = tfl.Dense(units=6, activation='softmax')(F)\n",
    "\n",
    "    model = tf.keras.Model(inputs=input_img, outputs=outputs)\n",
    "    return model"
   ]
  },
  {
   "cell_type": "code",
   "execution_count": 38,
   "metadata": {
    "deletable": false,
    "editable": false,
    "nbgrader": {
     "cell_type": "code",
     "checksum": "483d626949930a0b0ef20997e7c6ba72",
     "grade": true,
     "grade_id": "cell-45d22e92042174c9",
     "locked": true,
     "points": 10,
     "schema_version": 3,
     "solution": false,
     "task": false
    }
   },
   "outputs": [
    {
     "name": "stdout",
     "output_type": "stream",
     "text": [
      "Model: \"functional_6\"\n",
      "_________________________________________________________________\n",
      "Layer (type)                 Output Shape              Param #   \n",
      "=================================================================\n",
      "input_4 (InputLayer)         [(None, 64, 64, 3)]       0         \n",
      "_________________________________________________________________\n",
      "conv2d_7 (Conv2D)            (None, 64, 64, 8)         392       \n",
      "_________________________________________________________________\n",
      "re_lu_7 (ReLU)               (None, 64, 64, 8)         0         \n",
      "_________________________________________________________________\n",
      "max_pooling2d_7 (MaxPooling2 (None, 8, 8, 8)           0         \n",
      "_________________________________________________________________\n",
      "conv2d_8 (Conv2D)            (None, 8, 8, 16)          528       \n",
      "_________________________________________________________________\n",
      "re_lu_8 (ReLU)               (None, 8, 8, 16)          0         \n",
      "_________________________________________________________________\n",
      "max_pooling2d_8 (MaxPooling2 (None, 2, 2, 16)          0         \n",
      "_________________________________________________________________\n",
      "flatten_4 (Flatten)          (None, 64)                0         \n",
      "_________________________________________________________________\n",
      "dense_4 (Dense)              (None, 6)                 390       \n",
      "=================================================================\n",
      "Total params: 1,310\n",
      "Trainable params: 1,310\n",
      "Non-trainable params: 0\n",
      "_________________________________________________________________\n",
      "\u001b[32mAll tests passed!\u001b[0m\n"
     ]
    }
   ],
   "source": [
    "conv_model = convolutional_model((64, 64, 3))\n",
    "conv_model.compile(optimizer='adam',\n",
    "                  loss='categorical_crossentropy',\n",
    "                  metrics=['accuracy'])\n",
    "conv_model.summary()\n",
    "    \n",
    "output = [['InputLayer', [(None, 64, 64, 3)], 0],\n",
    "        ['Conv2D', (None, 64, 64, 8), 392, 'same', 'linear', 'GlorotUniform'],\n",
    "        ['ReLU', (None, 64, 64, 8), 0],\n",
    "        ['MaxPooling2D', (None, 8, 8, 8), 0, (8, 8), (8, 8), 'same'],\n",
    "        ['Conv2D', (None, 8, 8, 16), 528, 'same', 'linear', 'GlorotUniform'],\n",
    "        ['ReLU', (None, 8, 8, 16), 0],\n",
    "        ['MaxPooling2D', (None, 2, 2, 16), 0, (4, 4), (4, 4), 'same'],\n",
    "        ['Flatten', (None, 64), 0],\n",
    "        ['Dense', (None, 6), 390, 'softmax']]\n",
    "    \n",
    "comparator(summary(conv_model), output)"
   ]
  },
  {
   "cell_type": "markdown",
   "metadata": {},
   "source": [
    "Both the Sequential and Functional APIs return a TF Keras model object. The only difference is how inputs are handled inside the object model! "
   ]
  },
  {
   "cell_type": "markdown",
   "metadata": {},
   "source": [
    "<a name='4-4'></a>\n",
    "### 4.4 - Train the Model"
   ]
  },
  {
   "cell_type": "code",
   "execution_count": 39,
   "metadata": {},
   "outputs": [
    {
     "name": "stdout",
     "output_type": "stream",
     "text": [
      "Epoch 1/100\n",
      "17/17 [==============================] - 2s 107ms/step - loss: 1.8125 - accuracy: 0.2056 - val_loss: 1.7829 - val_accuracy: 0.2417\n",
      "Epoch 2/100\n",
      "17/17 [==============================] - 2s 106ms/step - loss: 1.7865 - accuracy: 0.1917 - val_loss: 1.7799 - val_accuracy: 0.2250\n",
      "Epoch 3/100\n",
      "17/17 [==============================] - 2s 106ms/step - loss: 1.7827 - accuracy: 0.2176 - val_loss: 1.7766 - val_accuracy: 0.3000\n",
      "Epoch 4/100\n",
      "17/17 [==============================] - 2s 106ms/step - loss: 1.7786 - accuracy: 0.2676 - val_loss: 1.7738 - val_accuracy: 0.3083\n",
      "Epoch 5/100\n",
      "17/17 [==============================] - 2s 106ms/step - loss: 1.7727 - accuracy: 0.3074 - val_loss: 1.7676 - val_accuracy: 0.3000\n",
      "Epoch 6/100\n",
      "17/17 [==============================] - 2s 106ms/step - loss: 1.7645 - accuracy: 0.3037 - val_loss: 1.7595 - val_accuracy: 0.3333\n",
      "Epoch 7/100\n",
      "17/17 [==============================] - 2s 106ms/step - loss: 1.7534 - accuracy: 0.3352 - val_loss: 1.7460 - val_accuracy: 0.4167\n",
      "Epoch 8/100\n",
      "17/17 [==============================] - 2s 106ms/step - loss: 1.7391 - accuracy: 0.3657 - val_loss: 1.7310 - val_accuracy: 0.4167\n",
      "Epoch 9/100\n",
      "17/17 [==============================] - 2s 106ms/step - loss: 1.7223 - accuracy: 0.3926 - val_loss: 1.7137 - val_accuracy: 0.4167\n",
      "Epoch 10/100\n",
      "17/17 [==============================] - 2s 106ms/step - loss: 1.7024 - accuracy: 0.4111 - val_loss: 1.6952 - val_accuracy: 0.4250\n",
      "Epoch 11/100\n",
      "17/17 [==============================] - 2s 107ms/step - loss: 1.6814 - accuracy: 0.4231 - val_loss: 1.6711 - val_accuracy: 0.4833\n",
      "Epoch 12/100\n",
      "17/17 [==============================] - 2s 106ms/step - loss: 1.6555 - accuracy: 0.4417 - val_loss: 1.6459 - val_accuracy: 0.5000\n",
      "Epoch 13/100\n",
      "17/17 [==============================] - 2s 112ms/step - loss: 1.6259 - accuracy: 0.4565 - val_loss: 1.6171 - val_accuracy: 0.5417\n",
      "Epoch 14/100\n",
      "17/17 [==============================] - 2s 111ms/step - loss: 1.5921 - accuracy: 0.4704 - val_loss: 1.5872 - val_accuracy: 0.5000\n",
      "Epoch 15/100\n",
      "17/17 [==============================] - 2s 106ms/step - loss: 1.5553 - accuracy: 0.4907 - val_loss: 1.5551 - val_accuracy: 0.5250\n",
      "Epoch 16/100\n",
      "17/17 [==============================] - 2s 106ms/step - loss: 1.5151 - accuracy: 0.5259 - val_loss: 1.5214 - val_accuracy: 0.5083\n",
      "Epoch 17/100\n",
      "17/17 [==============================] - 2s 106ms/step - loss: 1.4717 - accuracy: 0.5481 - val_loss: 1.4832 - val_accuracy: 0.5333\n",
      "Epoch 18/100\n",
      "17/17 [==============================] - 2s 111ms/step - loss: 1.4260 - accuracy: 0.5593 - val_loss: 1.4389 - val_accuracy: 0.5417\n",
      "Epoch 19/100\n",
      "17/17 [==============================] - 2s 106ms/step - loss: 1.3807 - accuracy: 0.5852 - val_loss: 1.3971 - val_accuracy: 0.5667\n",
      "Epoch 20/100\n",
      "17/17 [==============================] - 2s 111ms/step - loss: 1.3360 - accuracy: 0.6056 - val_loss: 1.3580 - val_accuracy: 0.5750\n",
      "Epoch 21/100\n",
      "17/17 [==============================] - 2s 111ms/step - loss: 1.2915 - accuracy: 0.6222 - val_loss: 1.3193 - val_accuracy: 0.5833\n",
      "Epoch 22/100\n",
      "17/17 [==============================] - 2s 106ms/step - loss: 1.2486 - accuracy: 0.6361 - val_loss: 1.2804 - val_accuracy: 0.5750\n",
      "Epoch 23/100\n",
      "17/17 [==============================] - 2s 106ms/step - loss: 1.2054 - accuracy: 0.6528 - val_loss: 1.2416 - val_accuracy: 0.5917\n",
      "Epoch 24/100\n",
      "17/17 [==============================] - 2s 111ms/step - loss: 1.1655 - accuracy: 0.6648 - val_loss: 1.2068 - val_accuracy: 0.6000\n",
      "Epoch 25/100\n",
      "17/17 [==============================] - 2s 106ms/step - loss: 1.1271 - accuracy: 0.6667 - val_loss: 1.1720 - val_accuracy: 0.6083\n",
      "Epoch 26/100\n",
      "17/17 [==============================] - 2s 111ms/step - loss: 1.0931 - accuracy: 0.6722 - val_loss: 1.1419 - val_accuracy: 0.6083\n",
      "Epoch 27/100\n",
      "17/17 [==============================] - 2s 111ms/step - loss: 1.0602 - accuracy: 0.6806 - val_loss: 1.1131 - val_accuracy: 0.6167\n",
      "Epoch 28/100\n",
      "17/17 [==============================] - 2s 106ms/step - loss: 1.0288 - accuracy: 0.6898 - val_loss: 1.0854 - val_accuracy: 0.6250\n",
      "Epoch 29/100\n",
      "17/17 [==============================] - 2s 107ms/step - loss: 1.0006 - accuracy: 0.7009 - val_loss: 1.0622 - val_accuracy: 0.6250\n",
      "Epoch 30/100\n",
      "17/17 [==============================] - 2s 106ms/step - loss: 0.9729 - accuracy: 0.7056 - val_loss: 1.0380 - val_accuracy: 0.6417\n",
      "Epoch 31/100\n",
      "17/17 [==============================] - 2s 106ms/step - loss: 0.9485 - accuracy: 0.7148 - val_loss: 1.0173 - val_accuracy: 0.6417\n",
      "Epoch 32/100\n",
      "17/17 [==============================] - 2s 106ms/step - loss: 0.9248 - accuracy: 0.7157 - val_loss: 0.9966 - val_accuracy: 0.6333\n",
      "Epoch 33/100\n",
      "17/17 [==============================] - 2s 106ms/step - loss: 0.9017 - accuracy: 0.7250 - val_loss: 0.9762 - val_accuracy: 0.6500\n",
      "Epoch 34/100\n",
      "17/17 [==============================] - 2s 106ms/step - loss: 0.8797 - accuracy: 0.7315 - val_loss: 0.9564 - val_accuracy: 0.6500\n",
      "Epoch 35/100\n",
      "17/17 [==============================] - 2s 106ms/step - loss: 0.8536 - accuracy: 0.7454 - val_loss: 0.9357 - val_accuracy: 0.6667\n",
      "Epoch 36/100\n",
      "17/17 [==============================] - 2s 107ms/step - loss: 0.8315 - accuracy: 0.7435 - val_loss: 0.9169 - val_accuracy: 0.6500\n",
      "Epoch 37/100\n",
      "17/17 [==============================] - 2s 106ms/step - loss: 0.8148 - accuracy: 0.7509 - val_loss: 0.8981 - val_accuracy: 0.6917\n",
      "Epoch 38/100\n",
      "17/17 [==============================] - 2s 106ms/step - loss: 0.7951 - accuracy: 0.7556 - val_loss: 0.8825 - val_accuracy: 0.6917\n",
      "Epoch 39/100\n",
      "17/17 [==============================] - 2s 111ms/step - loss: 0.7745 - accuracy: 0.7694 - val_loss: 0.8670 - val_accuracy: 0.6917\n",
      "Epoch 40/100\n",
      "17/17 [==============================] - 2s 111ms/step - loss: 0.7572 - accuracy: 0.7722 - val_loss: 0.8531 - val_accuracy: 0.7000\n",
      "Epoch 41/100\n",
      "17/17 [==============================] - 2s 106ms/step - loss: 0.7409 - accuracy: 0.7759 - val_loss: 0.8396 - val_accuracy: 0.7083\n",
      "Epoch 42/100\n",
      "17/17 [==============================] - 2s 106ms/step - loss: 0.7251 - accuracy: 0.7769 - val_loss: 0.8272 - val_accuracy: 0.7167\n",
      "Epoch 43/100\n",
      "17/17 [==============================] - 2s 106ms/step - loss: 0.7106 - accuracy: 0.7815 - val_loss: 0.8144 - val_accuracy: 0.7167\n",
      "Epoch 44/100\n",
      "17/17 [==============================] - 2s 106ms/step - loss: 0.6956 - accuracy: 0.7833 - val_loss: 0.8022 - val_accuracy: 0.7250\n",
      "Epoch 45/100\n",
      "17/17 [==============================] - 2s 106ms/step - loss: 0.6815 - accuracy: 0.7889 - val_loss: 0.7913 - val_accuracy: 0.7250\n",
      "Epoch 46/100\n",
      "17/17 [==============================] - 2s 111ms/step - loss: 0.6684 - accuracy: 0.7926 - val_loss: 0.7802 - val_accuracy: 0.7333\n",
      "Epoch 47/100\n",
      "17/17 [==============================] - 2s 112ms/step - loss: 0.6559 - accuracy: 0.7981 - val_loss: 0.7701 - val_accuracy: 0.7333\n",
      "Epoch 48/100\n",
      "17/17 [==============================] - 2s 111ms/step - loss: 0.6440 - accuracy: 0.7981 - val_loss: 0.7601 - val_accuracy: 0.7333\n",
      "Epoch 49/100\n",
      "17/17 [==============================] - 2s 107ms/step - loss: 0.6319 - accuracy: 0.8037 - val_loss: 0.7515 - val_accuracy: 0.7333\n",
      "Epoch 50/100\n",
      "17/17 [==============================] - 2s 106ms/step - loss: 0.6211 - accuracy: 0.8037 - val_loss: 0.7432 - val_accuracy: 0.7333\n",
      "Epoch 51/100\n",
      "17/17 [==============================] - 2s 106ms/step - loss: 0.6104 - accuracy: 0.8056 - val_loss: 0.7358 - val_accuracy: 0.7333\n",
      "Epoch 52/100\n",
      "17/17 [==============================] - 2s 107ms/step - loss: 0.5998 - accuracy: 0.8120 - val_loss: 0.7280 - val_accuracy: 0.7333\n",
      "Epoch 53/100\n",
      "17/17 [==============================] - 2s 106ms/step - loss: 0.5901 - accuracy: 0.8167 - val_loss: 0.7208 - val_accuracy: 0.7333\n",
      "Epoch 54/100\n",
      "17/17 [==============================] - 2s 106ms/step - loss: 0.5806 - accuracy: 0.8194 - val_loss: 0.7136 - val_accuracy: 0.7333\n",
      "Epoch 55/100\n",
      "17/17 [==============================] - 2s 106ms/step - loss: 0.5715 - accuracy: 0.8204 - val_loss: 0.7058 - val_accuracy: 0.7333\n",
      "Epoch 56/100\n",
      "17/17 [==============================] - 2s 107ms/step - loss: 0.5622 - accuracy: 0.8231 - val_loss: 0.6988 - val_accuracy: 0.7333\n",
      "Epoch 57/100\n",
      "17/17 [==============================] - 2s 106ms/step - loss: 0.5533 - accuracy: 0.8296 - val_loss: 0.6927 - val_accuracy: 0.7417\n",
      "Epoch 58/100\n",
      "17/17 [==============================] - 2s 106ms/step - loss: 0.5447 - accuracy: 0.8343 - val_loss: 0.6862 - val_accuracy: 0.7417\n",
      "Epoch 59/100\n",
      "17/17 [==============================] - 2s 107ms/step - loss: 0.5362 - accuracy: 0.8398 - val_loss: 0.6806 - val_accuracy: 0.7417\n",
      "Epoch 60/100\n",
      "17/17 [==============================] - 2s 106ms/step - loss: 0.5283 - accuracy: 0.8398 - val_loss: 0.6744 - val_accuracy: 0.7417\n",
      "Epoch 61/100\n",
      "17/17 [==============================] - 2s 111ms/step - loss: 0.5207 - accuracy: 0.8417 - val_loss: 0.6689 - val_accuracy: 0.7417\n",
      "Epoch 62/100\n",
      "17/17 [==============================] - 2s 111ms/step - loss: 0.5132 - accuracy: 0.8454 - val_loss: 0.6641 - val_accuracy: 0.7417\n",
      "Epoch 63/100\n",
      "17/17 [==============================] - 2s 112ms/step - loss: 0.5064 - accuracy: 0.8481 - val_loss: 0.6596 - val_accuracy: 0.7417\n",
      "Epoch 64/100\n",
      "17/17 [==============================] - 2s 112ms/step - loss: 0.4996 - accuracy: 0.8509 - val_loss: 0.6552 - val_accuracy: 0.7500\n",
      "Epoch 65/100\n",
      "17/17 [==============================] - 2s 111ms/step - loss: 0.4931 - accuracy: 0.8528 - val_loss: 0.6503 - val_accuracy: 0.7500\n",
      "Epoch 66/100\n",
      "17/17 [==============================] - 2s 111ms/step - loss: 0.4865 - accuracy: 0.8537 - val_loss: 0.6466 - val_accuracy: 0.7500\n",
      "Epoch 67/100\n",
      "17/17 [==============================] - 2s 112ms/step - loss: 0.4803 - accuracy: 0.8537 - val_loss: 0.6422 - val_accuracy: 0.7583\n",
      "Epoch 68/100\n",
      "17/17 [==============================] - 2s 112ms/step - loss: 0.4742 - accuracy: 0.8556 - val_loss: 0.6382 - val_accuracy: 0.7500\n",
      "Epoch 69/100\n",
      "17/17 [==============================] - 2s 106ms/step - loss: 0.4682 - accuracy: 0.8593 - val_loss: 0.6346 - val_accuracy: 0.7500\n",
      "Epoch 70/100\n",
      "17/17 [==============================] - 2s 106ms/step - loss: 0.4625 - accuracy: 0.8593 - val_loss: 0.6304 - val_accuracy: 0.7583\n",
      "Epoch 71/100\n",
      "17/17 [==============================] - 2s 112ms/step - loss: 0.4568 - accuracy: 0.8593 - val_loss: 0.6275 - val_accuracy: 0.7583\n",
      "Epoch 72/100\n",
      "17/17 [==============================] - 2s 106ms/step - loss: 0.4515 - accuracy: 0.8593 - val_loss: 0.6242 - val_accuracy: 0.7667\n",
      "Epoch 73/100\n",
      "17/17 [==============================] - 2s 111ms/step - loss: 0.4461 - accuracy: 0.8620 - val_loss: 0.6205 - val_accuracy: 0.7667\n",
      "Epoch 74/100\n",
      "17/17 [==============================] - 2s 111ms/step - loss: 0.4410 - accuracy: 0.8630 - val_loss: 0.6173 - val_accuracy: 0.7667\n",
      "Epoch 75/100\n",
      "17/17 [==============================] - 2s 111ms/step - loss: 0.4357 - accuracy: 0.8657 - val_loss: 0.6144 - val_accuracy: 0.7667\n",
      "Epoch 76/100\n",
      "17/17 [==============================] - 2s 107ms/step - loss: 0.4307 - accuracy: 0.8648 - val_loss: 0.6114 - val_accuracy: 0.7667\n",
      "Epoch 77/100\n",
      "17/17 [==============================] - 2s 106ms/step - loss: 0.4260 - accuracy: 0.8667 - val_loss: 0.6083 - val_accuracy: 0.7667\n",
      "Epoch 78/100\n",
      "17/17 [==============================] - 2s 111ms/step - loss: 0.4211 - accuracy: 0.8676 - val_loss: 0.6052 - val_accuracy: 0.7667\n",
      "Epoch 79/100\n",
      "17/17 [==============================] - 2s 106ms/step - loss: 0.4163 - accuracy: 0.8713 - val_loss: 0.6021 - val_accuracy: 0.7750\n",
      "Epoch 80/100\n",
      "17/17 [==============================] - 2s 106ms/step - loss: 0.4118 - accuracy: 0.8741 - val_loss: 0.5994 - val_accuracy: 0.7750\n",
      "Epoch 81/100\n",
      "17/17 [==============================] - 2s 111ms/step - loss: 0.4072 - accuracy: 0.8759 - val_loss: 0.5965 - val_accuracy: 0.7750\n",
      "Epoch 82/100\n",
      "17/17 [==============================] - 2s 106ms/step - loss: 0.4030 - accuracy: 0.8769 - val_loss: 0.5944 - val_accuracy: 0.7833\n",
      "Epoch 83/100\n",
      "17/17 [==============================] - 2s 106ms/step - loss: 0.3987 - accuracy: 0.8796 - val_loss: 0.5919 - val_accuracy: 0.7833\n",
      "Epoch 84/100\n",
      "17/17 [==============================] - 2s 106ms/step - loss: 0.3944 - accuracy: 0.8787 - val_loss: 0.5896 - val_accuracy: 0.7833\n",
      "Epoch 85/100\n",
      "17/17 [==============================] - 2s 111ms/step - loss: 0.3902 - accuracy: 0.8796 - val_loss: 0.5870 - val_accuracy: 0.7833\n",
      "Epoch 86/100\n",
      "17/17 [==============================] - 2s 106ms/step - loss: 0.3863 - accuracy: 0.8815 - val_loss: 0.5851 - val_accuracy: 0.7917\n",
      "Epoch 87/100\n",
      "17/17 [==============================] - 2s 112ms/step - loss: 0.3822 - accuracy: 0.8843 - val_loss: 0.5822 - val_accuracy: 0.8000\n",
      "Epoch 88/100\n",
      "17/17 [==============================] - 2s 112ms/step - loss: 0.3786 - accuracy: 0.8833 - val_loss: 0.5797 - val_accuracy: 0.8000\n",
      "Epoch 89/100\n",
      "17/17 [==============================] - 2s 112ms/step - loss: 0.3746 - accuracy: 0.8889 - val_loss: 0.5777 - val_accuracy: 0.8000\n",
      "Epoch 90/100\n",
      "17/17 [==============================] - 2s 111ms/step - loss: 0.3711 - accuracy: 0.8907 - val_loss: 0.5764 - val_accuracy: 0.8083\n",
      "Epoch 91/100\n",
      "17/17 [==============================] - 2s 106ms/step - loss: 0.3672 - accuracy: 0.8954 - val_loss: 0.5735 - val_accuracy: 0.8000\n",
      "Epoch 92/100\n",
      "17/17 [==============================] - 2s 106ms/step - loss: 0.3638 - accuracy: 0.8917 - val_loss: 0.5718 - val_accuracy: 0.8083\n",
      "Epoch 93/100\n",
      "17/17 [==============================] - 2s 111ms/step - loss: 0.3602 - accuracy: 0.8963 - val_loss: 0.5699 - val_accuracy: 0.8083\n",
      "Epoch 94/100\n",
      "17/17 [==============================] - 2s 112ms/step - loss: 0.3568 - accuracy: 0.8963 - val_loss: 0.5672 - val_accuracy: 0.8083\n",
      "Epoch 95/100\n",
      "17/17 [==============================] - 2s 106ms/step - loss: 0.3532 - accuracy: 0.8972 - val_loss: 0.5650 - val_accuracy: 0.8167\n",
      "Epoch 96/100\n",
      "17/17 [==============================] - 2s 107ms/step - loss: 0.3500 - accuracy: 0.8981 - val_loss: 0.5637 - val_accuracy: 0.8250\n",
      "Epoch 97/100\n",
      "17/17 [==============================] - 2s 106ms/step - loss: 0.3467 - accuracy: 0.8972 - val_loss: 0.5615 - val_accuracy: 0.8250\n",
      "Epoch 98/100\n",
      "17/17 [==============================] - 2s 106ms/step - loss: 0.3435 - accuracy: 0.8972 - val_loss: 0.5602 - val_accuracy: 0.8250\n",
      "Epoch 99/100\n",
      "17/17 [==============================] - 2s 106ms/step - loss: 0.3403 - accuracy: 0.8991 - val_loss: 0.5579 - val_accuracy: 0.8250\n",
      "Epoch 100/100\n",
      "17/17 [==============================] - 2s 106ms/step - loss: 0.3373 - accuracy: 0.9009 - val_loss: 0.5564 - val_accuracy: 0.8250\n"
     ]
    }
   ],
   "source": [
    "train_dataset = tf.data.Dataset.from_tensor_slices((X_train, Y_train)).batch(64)\n",
    "test_dataset = tf.data.Dataset.from_tensor_slices((X_test, Y_test)).batch(64)\n",
    "history = conv_model.fit(train_dataset, epochs=100, validation_data=test_dataset)"
   ]
  },
  {
   "cell_type": "markdown",
   "metadata": {},
   "source": [
    "<a name='5'></a>\n",
    "## 5 - History Object \n",
    "\n",
    "The history object is an output of the `.fit()` operation, and provides a record of all the loss and metric values in memory. It's stored as a dictionary that you can retrieve at `history.history`: "
   ]
  },
  {
   "cell_type": "code",
   "execution_count": 40,
   "metadata": {},
   "outputs": [
    {
     "data": {
      "text/plain": [
       "{'loss': [1.8125271797180176,\n",
       "  1.7865480184555054,\n",
       "  1.7826670408248901,\n",
       "  1.778555154800415,\n",
       "  1.7726833820343018,\n",
       "  1.7645399570465088,\n",
       "  1.7533851861953735,\n",
       "  1.739065408706665,\n",
       "  1.7223087549209595,\n",
       "  1.7024025917053223,\n",
       "  1.6813668012619019,\n",
       "  1.6554912328720093,\n",
       "  1.6258893013000488,\n",
       "  1.592123031616211,\n",
       "  1.5553185939788818,\n",
       "  1.515082836151123,\n",
       "  1.471724033355713,\n",
       "  1.425973653793335,\n",
       "  1.3806939125061035,\n",
       "  1.3359713554382324,\n",
       "  1.2915477752685547,\n",
       "  1.2485657930374146,\n",
       "  1.2053978443145752,\n",
       "  1.165467619895935,\n",
       "  1.1270719766616821,\n",
       "  1.0931041240692139,\n",
       "  1.0601969957351685,\n",
       "  1.0288050174713135,\n",
       "  1.0005536079406738,\n",
       "  0.9729330539703369,\n",
       "  0.9484647512435913,\n",
       "  0.924805223941803,\n",
       "  0.9016811847686768,\n",
       "  0.8796759843826294,\n",
       "  0.8535815477371216,\n",
       "  0.8314983248710632,\n",
       "  0.8147729635238647,\n",
       "  0.7950942516326904,\n",
       "  0.7745345234870911,\n",
       "  0.7571781873703003,\n",
       "  0.7408545613288879,\n",
       "  0.7251431941986084,\n",
       "  0.7105567455291748,\n",
       "  0.6956179141998291,\n",
       "  0.6815229058265686,\n",
       "  0.6684390306472778,\n",
       "  0.6558849811553955,\n",
       "  0.6439681649208069,\n",
       "  0.6318769454956055,\n",
       "  0.6211190819740295,\n",
       "  0.6103742122650146,\n",
       "  0.5998191237449646,\n",
       "  0.5900530815124512,\n",
       "  0.5806342959403992,\n",
       "  0.5714737176895142,\n",
       "  0.5621609091758728,\n",
       "  0.553278386592865,\n",
       "  0.5446836352348328,\n",
       "  0.5361543893814087,\n",
       "  0.5283171534538269,\n",
       "  0.5207075476646423,\n",
       "  0.5132372975349426,\n",
       "  0.506369411945343,\n",
       "  0.4996001720428467,\n",
       "  0.4930633008480072,\n",
       "  0.48648127913475037,\n",
       "  0.48025473952293396,\n",
       "  0.4741664230823517,\n",
       "  0.46821215748786926,\n",
       "  0.4625317454338074,\n",
       "  0.45682698488235474,\n",
       "  0.45152953267097473,\n",
       "  0.4461248517036438,\n",
       "  0.4409635365009308,\n",
       "  0.4357304871082306,\n",
       "  0.430667519569397,\n",
       "  0.42595338821411133,\n",
       "  0.42108336091041565,\n",
       "  0.41631433367729187,\n",
       "  0.41176268458366394,\n",
       "  0.4072182774543762,\n",
       "  0.4029576778411865,\n",
       "  0.398669570684433,\n",
       "  0.39436855912208557,\n",
       "  0.39017045497894287,\n",
       "  0.38632866740226746,\n",
       "  0.3822060227394104,\n",
       "  0.3785887062549591,\n",
       "  0.37461405992507935,\n",
       "  0.37108638882637024,\n",
       "  0.3672173321247101,\n",
       "  0.3638380169868469,\n",
       "  0.36021286249160767,\n",
       "  0.3567529320716858,\n",
       "  0.353239506483078,\n",
       "  0.3499810993671417,\n",
       "  0.3466912806034088,\n",
       "  0.343499094247818,\n",
       "  0.34029391407966614,\n",
       "  0.3372581899166107],\n",
       " 'accuracy': [0.20555555820465088,\n",
       "  0.19166666269302368,\n",
       "  0.21759259700775146,\n",
       "  0.26759257912635803,\n",
       "  0.307407408952713,\n",
       "  0.3037036955356598,\n",
       "  0.3351851999759674,\n",
       "  0.36574074625968933,\n",
       "  0.39259257912635803,\n",
       "  0.41111111640930176,\n",
       "  0.42314815521240234,\n",
       "  0.4416666626930237,\n",
       "  0.4564814865589142,\n",
       "  0.4703703820705414,\n",
       "  0.49074074625968933,\n",
       "  0.5259259343147278,\n",
       "  0.5481481552124023,\n",
       "  0.5592592358589172,\n",
       "  0.585185170173645,\n",
       "  0.605555534362793,\n",
       "  0.6222222447395325,\n",
       "  0.6361111402511597,\n",
       "  0.6527777910232544,\n",
       "  0.664814829826355,\n",
       "  0.6666666865348816,\n",
       "  0.6722221970558167,\n",
       "  0.6805555820465088,\n",
       "  0.6898148059844971,\n",
       "  0.7009259462356567,\n",
       "  0.7055555582046509,\n",
       "  0.7148148417472839,\n",
       "  0.7157407402992249,\n",
       "  0.7250000238418579,\n",
       "  0.7314814925193787,\n",
       "  0.7453703880310059,\n",
       "  0.7435185313224792,\n",
       "  0.7509258985519409,\n",
       "  0.7555555701255798,\n",
       "  0.769444465637207,\n",
       "  0.7722222208976746,\n",
       "  0.7759259343147278,\n",
       "  0.7768518328666687,\n",
       "  0.7814815044403076,\n",
       "  0.7833333611488342,\n",
       "  0.7888888716697693,\n",
       "  0.7925925850868225,\n",
       "  0.7981481552124023,\n",
       "  0.7981481552124023,\n",
       "  0.8037037253379822,\n",
       "  0.8037037253379822,\n",
       "  0.8055555820465088,\n",
       "  0.8120370507240295,\n",
       "  0.8166666626930237,\n",
       "  0.8194444179534912,\n",
       "  0.8203703761100769,\n",
       "  0.8231481313705444,\n",
       "  0.8296296000480652,\n",
       "  0.8342592716217041,\n",
       "  0.8398148417472839,\n",
       "  0.8398148417472839,\n",
       "  0.8416666388511658,\n",
       "  0.845370352268219,\n",
       "  0.8481481671333313,\n",
       "  0.8509259223937988,\n",
       "  0.8527777791023254,\n",
       "  0.8537036776542664,\n",
       "  0.8537036776542664,\n",
       "  0.855555534362793,\n",
       "  0.8592592477798462,\n",
       "  0.8592592477798462,\n",
       "  0.8592592477798462,\n",
       "  0.8592592477798462,\n",
       "  0.8620370626449585,\n",
       "  0.8629629611968994,\n",
       "  0.8657407164573669,\n",
       "  0.864814817905426,\n",
       "  0.8666666746139526,\n",
       "  0.8675925731658936,\n",
       "  0.8712962865829468,\n",
       "  0.8740741014480591,\n",
       "  0.8759258985519409,\n",
       "  0.8768518567085266,\n",
       "  0.8796296119689941,\n",
       "  0.8787037134170532,\n",
       "  0.8796296119689941,\n",
       "  0.8814814686775208,\n",
       "  0.8842592835426331,\n",
       "  0.8833333253860474,\n",
       "  0.8888888955116272,\n",
       "  0.8907407522201538,\n",
       "  0.895370364189148,\n",
       "  0.8916666507720947,\n",
       "  0.8962963223457336,\n",
       "  0.8962963223457336,\n",
       "  0.8972222208976746,\n",
       "  0.8981481194496155,\n",
       "  0.8972222208976746,\n",
       "  0.8972222208976746,\n",
       "  0.8990740776062012,\n",
       "  0.9009259343147278],\n",
       " 'val_loss': [1.7828712463378906,\n",
       "  1.7798845767974854,\n",
       "  1.776593804359436,\n",
       "  1.7737815380096436,\n",
       "  1.7676385641098022,\n",
       "  1.7594971656799316,\n",
       "  1.7459970712661743,\n",
       "  1.7309725284576416,\n",
       "  1.7137168645858765,\n",
       "  1.6952052116394043,\n",
       "  1.6711426973342896,\n",
       "  1.6459078788757324,\n",
       "  1.617120623588562,\n",
       "  1.5872457027435303,\n",
       "  1.5550532341003418,\n",
       "  1.521397352218628,\n",
       "  1.4831550121307373,\n",
       "  1.4389134645462036,\n",
       "  1.397084355354309,\n",
       "  1.3579773902893066,\n",
       "  1.3192944526672363,\n",
       "  1.280402421951294,\n",
       "  1.2416192293167114,\n",
       "  1.2068456411361694,\n",
       "  1.1719588041305542,\n",
       "  1.1419403553009033,\n",
       "  1.113132119178772,\n",
       "  1.0853683948516846,\n",
       "  1.062221646308899,\n",
       "  1.0380289554595947,\n",
       "  1.0172784328460693,\n",
       "  0.9965788722038269,\n",
       "  0.9761613011360168,\n",
       "  0.9564380645751953,\n",
       "  0.93565434217453,\n",
       "  0.9169395565986633,\n",
       "  0.8980779051780701,\n",
       "  0.8825279474258423,\n",
       "  0.8669803738594055,\n",
       "  0.8530809879302979,\n",
       "  0.8396229147911072,\n",
       "  0.8271979093551636,\n",
       "  0.814355731010437,\n",
       "  0.8022188544273376,\n",
       "  0.7912836670875549,\n",
       "  0.7801830172538757,\n",
       "  0.7701466679573059,\n",
       "  0.7601249814033508,\n",
       "  0.7515292763710022,\n",
       "  0.7431954741477966,\n",
       "  0.7357909083366394,\n",
       "  0.728013277053833,\n",
       "  0.720813512802124,\n",
       "  0.7135969400405884,\n",
       "  0.7058057188987732,\n",
       "  0.6988441348075867,\n",
       "  0.6927331686019897,\n",
       "  0.6861907839775085,\n",
       "  0.6806061863899231,\n",
       "  0.6743972897529602,\n",
       "  0.6689378023147583,\n",
       "  0.6641470789909363,\n",
       "  0.6595593094825745,\n",
       "  0.6552002429962158,\n",
       "  0.650310754776001,\n",
       "  0.6465999484062195,\n",
       "  0.6421560049057007,\n",
       "  0.638228714466095,\n",
       "  0.6345680356025696,\n",
       "  0.6304285526275635,\n",
       "  0.6275033354759216,\n",
       "  0.6241889595985413,\n",
       "  0.6204792857170105,\n",
       "  0.6173105835914612,\n",
       "  0.6143925786018372,\n",
       "  0.6113995909690857,\n",
       "  0.6083176732063293,\n",
       "  0.6052400469779968,\n",
       "  0.6021329164505005,\n",
       "  0.5993852019309998,\n",
       "  0.5964650511741638,\n",
       "  0.5943888425827026,\n",
       "  0.5919491052627563,\n",
       "  0.5895782709121704,\n",
       "  0.5869776606559753,\n",
       "  0.5850614309310913,\n",
       "  0.5822121500968933,\n",
       "  0.5797157287597656,\n",
       "  0.5776681900024414,\n",
       "  0.5763731002807617,\n",
       "  0.5734590888023376,\n",
       "  0.5717876553535461,\n",
       "  0.5699049830436707,\n",
       "  0.5672327280044556,\n",
       "  0.5650127530097961,\n",
       "  0.563660204410553,\n",
       "  0.561522901058197,\n",
       "  0.5601989030838013,\n",
       "  0.5578654408454895,\n",
       "  0.556445300579071],\n",
       " 'val_accuracy': [0.24166665971279144,\n",
       "  0.22499999403953552,\n",
       "  0.30000001192092896,\n",
       "  0.3083333373069763,\n",
       "  0.30000001192092896,\n",
       "  0.3333333432674408,\n",
       "  0.4166666567325592,\n",
       "  0.4166666567325592,\n",
       "  0.4166666567325592,\n",
       "  0.42500001192092896,\n",
       "  0.4833333194255829,\n",
       "  0.5,\n",
       "  0.5416666865348816,\n",
       "  0.5,\n",
       "  0.5249999761581421,\n",
       "  0.5083333253860474,\n",
       "  0.5333333611488342,\n",
       "  0.5416666865348816,\n",
       "  0.5666666626930237,\n",
       "  0.574999988079071,\n",
       "  0.5833333134651184,\n",
       "  0.574999988079071,\n",
       "  0.5916666388511658,\n",
       "  0.6000000238418579,\n",
       "  0.6083333492279053,\n",
       "  0.6083333492279053,\n",
       "  0.6166666746139526,\n",
       "  0.625,\n",
       "  0.625,\n",
       "  0.6416666507720947,\n",
       "  0.6416666507720947,\n",
       "  0.6333333253860474,\n",
       "  0.6499999761581421,\n",
       "  0.6499999761581421,\n",
       "  0.6666666865348816,\n",
       "  0.6499999761581421,\n",
       "  0.6916666626930237,\n",
       "  0.6916666626930237,\n",
       "  0.6916666626930237,\n",
       "  0.699999988079071,\n",
       "  0.7083333134651184,\n",
       "  0.7166666388511658,\n",
       "  0.7166666388511658,\n",
       "  0.7250000238418579,\n",
       "  0.7250000238418579,\n",
       "  0.7333333492279053,\n",
       "  0.7333333492279053,\n",
       "  0.7333333492279053,\n",
       "  0.7333333492279053,\n",
       "  0.7333333492279053,\n",
       "  0.7333333492279053,\n",
       "  0.7333333492279053,\n",
       "  0.7333333492279053,\n",
       "  0.7333333492279053,\n",
       "  0.7333333492279053,\n",
       "  0.7333333492279053,\n",
       "  0.7416666746139526,\n",
       "  0.7416666746139526,\n",
       "  0.7416666746139526,\n",
       "  0.7416666746139526,\n",
       "  0.7416666746139526,\n",
       "  0.7416666746139526,\n",
       "  0.7416666746139526,\n",
       "  0.75,\n",
       "  0.75,\n",
       "  0.75,\n",
       "  0.7583333253860474,\n",
       "  0.75,\n",
       "  0.75,\n",
       "  0.7583333253860474,\n",
       "  0.7583333253860474,\n",
       "  0.7666666507720947,\n",
       "  0.7666666507720947,\n",
       "  0.7666666507720947,\n",
       "  0.7666666507720947,\n",
       "  0.7666666507720947,\n",
       "  0.7666666507720947,\n",
       "  0.7666666507720947,\n",
       "  0.7749999761581421,\n",
       "  0.7749999761581421,\n",
       "  0.7749999761581421,\n",
       "  0.7833333611488342,\n",
       "  0.7833333611488342,\n",
       "  0.7833333611488342,\n",
       "  0.7833333611488342,\n",
       "  0.7916666865348816,\n",
       "  0.800000011920929,\n",
       "  0.800000011920929,\n",
       "  0.800000011920929,\n",
       "  0.8083333373069763,\n",
       "  0.800000011920929,\n",
       "  0.8083333373069763,\n",
       "  0.8083333373069763,\n",
       "  0.8083333373069763,\n",
       "  0.8166666626930237,\n",
       "  0.824999988079071,\n",
       "  0.824999988079071,\n",
       "  0.824999988079071,\n",
       "  0.824999988079071,\n",
       "  0.824999988079071]}"
      ]
     },
     "execution_count": 40,
     "metadata": {},
     "output_type": "execute_result"
    }
   ],
   "source": [
    "history.history"
   ]
  },
  {
   "cell_type": "markdown",
   "metadata": {},
   "source": [
    "Now visualize the loss over time using `history.history`: "
   ]
  },
  {
   "cell_type": "code",
   "execution_count": 41,
   "metadata": {},
   "outputs": [
    {
     "data": {
      "text/plain": [
       "[Text(0, 0.5, 'Accuracy'), Text(0.5, 0, 'Epoch')]"
      ]
     },
     "execution_count": 41,
     "metadata": {},
     "output_type": "execute_result"
    },
    {
     "data": {
      "image/png": "[encoded data removed]",
      "text/plain": [
       "<Figure size 864x576 with 1 Axes>"
      ]
     },
     "metadata": {
      "needs_background": "light"
     },
     "output_type": "display_data"
    },
    {
     "data": {
      "image/png": "[encoded data removed]",
      "text/plain": [
       "<Figure size 864x576 with 1 Axes>"
      ]
     },
     "metadata": {
      "needs_background": "light"
     },
     "output_type": "display_data"
    }
   ],
   "source": [
    "# The history.history[\"loss\"] entry is a dictionary with as many values as epochs that the\n",
    "# model was trained on. \n",
    "df_loss_acc = pd.DataFrame(history.history)\n",
    "df_loss= df_loss_acc[['loss','val_loss']]\n",
    "df_loss.rename(columns={'loss':'train','val_loss':'validation'},inplace=True)\n",
    "df_acc= df_loss_acc[['accuracy','val_accuracy']]\n",
    "df_acc.rename(columns={'accuracy':'train','val_accuracy':'validation'},inplace=True)\n",
    "df_loss.plot(title='Model loss',figsize=(12,8)).set(xlabel='Epoch',ylabel='Loss')\n",
    "df_acc.plot(title='Model Accuracy',figsize=(12,8)).set(xlabel='Epoch',ylabel='Accuracy')"
   ]
  },
  {
   "cell_type": "markdown",
   "metadata": {},
   "source": [
    "**Congratulations**! You've finished the assignment and built two models: One that recognizes  smiles, and another that recognizes SIGN language with almost 80% accuracy on the test set. In addition to that, you now also understand the applications of two Keras APIs: Sequential and Functional. Nicely done! \n",
    "\n",
    "By now, you know a bit about how the Functional API works and may have glimpsed the possibilities. In your next assignment, you'll really get a feel for its power when you get the opportunity to build a very deep ConvNet, using ResNets! "
   ]
  },
  {
   "cell_type": "markdown",
   "metadata": {},
   "source": [
    "<a name='6'></a>\n",
    "## 6 - Bibliography\n",
    "\n",
    "You're always encouraged to read the official documentation. To that end, you can find the docs for the Sequential and Functional APIs here: \n",
    "\n",
    "https://www.tensorflow.org/guide/keras/sequential_model\n",
    "\n",
    "https://www.tensorflow.org/guide/keras/functional"
   ]
  }
 ],
 "metadata": {
  "coursera": {
   "course_slug": "convolutional-neural-networks",
   "graded_item_id": "bwbJV",
   "launcher_item_id": "0TkXB"
  },
  "kernelspec": {
   "display_name": "Python 3",
   "language": "python",
   "name": "python3"
  },
  "language_info": {
   "codemirror_mode": {
    "name": "ipython",
    "version": 3
   },
   "file_extension": ".py",
   "mimetype": "text/x-python",
   "name": "python",
   "nbconvert_exporter": "python",
   "pygments_lexer": "ipython3",
   "version": "3.7.6"
  }
 },
 "nbformat": 4,
 "nbformat_minor": 2
}
